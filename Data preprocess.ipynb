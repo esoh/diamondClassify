{
 "cells": [
  {
   "cell_type": "code",
   "execution_count": 1,
   "metadata": {},
   "outputs": [],
   "source": [
    "import csv\n",
    "import pickle\n",
    "from random import shuffle\n",
    "DATA = []"
   ]
  },
  {
   "cell_type": "code",
   "execution_count": 2,
   "metadata": {},
   "outputs": [],
   "source": [
    "with open('diamonds.csv') as f:\n",
    "    DATA = [row for row in csv.DictReader(f, skipinitialspace=True)]\n",
    "shuffle(DATA)"
   ]
  },
  {
   "cell_type": "code",
   "execution_count": null,
   "metadata": {},
   "outputs": [],
   "source": [
    "# data: list to split into train, validation, and test set\n",
    "# percent_tr, percent_v: 0 < tr/v < 1: percent of data to be put into respective sets\n",
    "# remaining data is put into test\n",
    "def getSplits(data, percent_tr, percent_v):\n",
    "    tr_len = int(len(data) * percent_tr)\n",
    "    v_len = int(len(data) * percent_v)\n",
    "    return data[:tr_len], data[tr_len: (tr_len + v_len)], data[(tr_len+v_len):]\n",
    "\n",
    "DATA_TR, DATA_V, DATA_T = getSplits(DATA, 0.60, 0.20)"
   ]
  },
  {
   "cell_type": "code",
   "execution_count": null,
   "metadata": {},
   "outputs": [],
   "source": [
    "with open('data_split.pkl', 'w') as f:\n",
    "    pickle.dump([DATA_TR, DATA_V, DATA_T], f)"
   ]
  },
  {
   "cell_type": "code",
   "execution_count": null,
   "metadata": {},
   "outputs": [],
   "source": [
    "with open('data_split.pkl') as f:\n",
    "    DATA_TR, DATA_V, DATA_T = pickle.load(f)"
   ]
  },
  {
   "cell_type": "code",
   "execution_count": null,
   "metadata": {},
   "outputs": [],
   "source": [
    "DATA_TR[0]"
   ]
  }
 ],
 "metadata": {
  "kernelspec": {
   "display_name": "Python 2",
   "language": "python",
   "name": "python2"
  },
  "language_info": {
   "codemirror_mode": {
    "name": "ipython",
    "version": 2
   },
   "file_extension": ".py",
   "mimetype": "text/x-python",
   "name": "python",
   "nbconvert_exporter": "python",
   "pygments_lexer": "ipython2",
   "version": "2.7.10"
  }
 },
 "nbformat": 4,
 "nbformat_minor": 2
}
